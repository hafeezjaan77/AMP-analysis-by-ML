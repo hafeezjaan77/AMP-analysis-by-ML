{
  "nbformat": 4,
  "nbformat_minor": 0,
  "metadata": {
    "colab": {
      "name": "Copy of Predicting activity of short AMPs_Pfeatures (all)-0.ipynb",
      "private_outputs": true,
      "provenance": [],
      "collapsed_sections": [
        "SteUxz8TwD7Y",
        "SS-jPN5wwhz3",
        "1C0DhzPJ0owZ"
      ],
      "mount_file_id": "1UIubazaAuTmTqZm8MAXxvkkj6JRQj3JZ",
      "authorship_tag": "ABX9TyNNibfFsBn4y74RJ013OFtD",
      "include_colab_link": true
    },
    "kernelspec": {
      "name": "python3",
      "display_name": "Python 3"
    },
    "language_info": {
      "name": "python"
    },
    "accelerator": "GPU"
  },
  "cells": [
    {
      "cell_type": "markdown",
      "metadata": {
        "id": "view-in-github",
        "colab_type": "text"
      },
      "source": [
        "<a href=\"https://colab.research.google.com/github/hafeezjaan77/AMP-analysis-by-ML/blob/main/Copy_of_Predicting_activity_of_short_AMPs_Pfeatures_(all)_0.ipynb\" target=\"_parent\"><img src=\"https://colab.research.google.com/assets/colab-badge.svg\" alt=\"Open In Colab\"/></a>"
      ]
    },
    {
      "cell_type": "markdown",
      "metadata": {
        "id": "DqU9HnH_mqiS"
      },
      "source": [
        "# **Predicting Activity of Short Antimicrobial Peptides**\n",
        "\n",
        "Abdul Hafeez\n",
        "\n",
        "Mahidol University "
      ]
    },
    {
      "cell_type": "markdown",
      "metadata": {
        "id": "pyYLbfLZs3Zg"
      },
      "source": [
        "# **Install conda**"
      ]
    },
    {
      "cell_type": "code",
      "metadata": {
        "id": "MA5fD0TUpdLd"
      },
      "source": [
        "! wget https://repo.anaconda.com/miniconda/Miniconda3-py37_4.8.2-Linux-x86_64.sh\n",
        "! chmod +x Miniconda3-py37_4.8.2-Linux-x86_64.sh\n",
        "! bash ./Miniconda3-py37_4.8.2-Linux-x86_64.sh -b -f -p /usr/local\n",
        "import sys\n",
        "sys.path.append('/usr/local/lib/python3.7/site-packages/')"
      ],
      "execution_count": null,
      "outputs": []
    },
    {
      "cell_type": "markdown",
      "metadata": {
        "id": "Rx6xsgVutOfe"
      },
      "source": [
        "# **Download and Install Pfeature**"
      ]
    },
    {
      "cell_type": "code",
      "metadata": {
        "id": "v7cwRRWNtQoV"
      },
      "source": [
        "! wget https://github.com/raghavagps/Pfeature/raw/master/PyLib/Pfeature.zip"
      ],
      "execution_count": null,
      "outputs": []
    },
    {
      "cell_type": "code",
      "metadata": {
        "id": "TH75yutptWlh"
      },
      "source": [
        "! unzip Pfeature.zip"
      ],
      "execution_count": null,
      "outputs": []
    },
    {
      "cell_type": "code",
      "metadata": {
        "id": "fVKc2v88tsAA"
      },
      "source": [
        "% cd Pfeature/"
      ],
      "execution_count": null,
      "outputs": []
    },
    {
      "cell_type": "code",
      "metadata": {
        "id": "ByJHj93Qtvgo"
      },
      "source": [
        "! python setup.py install"
      ],
      "execution_count": null,
      "outputs": []
    },
    {
      "cell_type": "markdown",
      "metadata": {
        "id": "FZKpxWaot5B5"
      },
      "source": [
        "# **Install CD-HIT**"
      ]
    },
    {
      "cell_type": "code",
      "metadata": {
        "id": "AW0maNWgt68z"
      },
      "source": [
        "! conda install -c bioconda cd-hit -y"
      ],
      "execution_count": null,
      "outputs": []
    },
    {
      "cell_type": "markdown",
      "metadata": {
        "id": "wcff6PRzuFa2"
      },
      "source": [
        "# **Load peptide dataset**"
      ]
    },
    {
      "cell_type": "code",
      "metadata": {
        "id": "cQDWoBr6uE9i"
      },
      "source": [
        "! wget https://raw.githubusercontent.com/dataprofessor/AMP/main/train_po.fasta"
      ],
      "execution_count": null,
      "outputs": []
    },
    {
      "cell_type": "code",
      "metadata": {
        "id": "ybRTYcWTuOy5"
      },
      "source": [
        "! wget https://raw.githubusercontent.com/dataprofessor/AMP/main/train_ne.fasta\n"
      ],
      "execution_count": null,
      "outputs": []
    },
    {
      "cell_type": "code",
      "metadata": {
        "id": "FOkJCwSvuSYm"
      },
      "source": [
        "! cat train_ne.fasta\n"
      ],
      "execution_count": null,
      "outputs": []
    },
    {
      "cell_type": "markdown",
      "metadata": {
        "id": "aJW4470QudBJ"
      },
      "source": [
        "# **Remove redundant sequences using CD-HIT**"
      ]
    },
    {
      "cell_type": "code",
      "metadata": {
        "id": "rx5T270JufOO"
      },
      "source": [
        "! cd-hit -i train_po.fasta -o train_po_cdhit.txt -c 0.99\n"
      ],
      "execution_count": null,
      "outputs": []
    },
    {
      "cell_type": "code",
      "metadata": {
        "id": "Mivpmtqkulv3"
      },
      "source": [
        "! cd-hit -i train_ne.fasta -o train_ne_cdhit.txt -c 0.99\n"
      ],
      "execution_count": null,
      "outputs": []
    },
    {
      "cell_type": "code",
      "metadata": {
        "id": "ehsJxCSJuqrx"
      },
      "source": [
        "! ls -l"
      ],
      "execution_count": null,
      "outputs": []
    },
    {
      "cell_type": "code",
      "metadata": {
        "id": "KY663xoOuvDu"
      },
      "source": [
        "! grep \">\" train_po_cdhit.txt | wc -l\n"
      ],
      "execution_count": null,
      "outputs": []
    },
    {
      "cell_type": "code",
      "metadata": {
        "id": "cG2ddTcNuzYT"
      },
      "source": [
        "! grep \">\" train_po.fasta | wc -l\n"
      ],
      "execution_count": null,
      "outputs": []
    },
    {
      "cell_type": "code",
      "metadata": {
        "id": "zo0IzSn7u01J"
      },
      "source": [
        "! grep \">\" train_ne.fasta | wc -l\n"
      ],
      "execution_count": null,
      "outputs": []
    },
    {
      "cell_type": "code",
      "metadata": {
        "id": "XhdqzbHGu5eV"
      },
      "source": [
        "! grep \">\" train_ne_cdhit.txt | wc -l\n"
      ],
      "execution_count": null,
      "outputs": []
    },
    {
      "cell_type": "markdown",
      "metadata": {
        "id": "L6JC9UY4u_Wz"
      },
      "source": [
        "# **Calculate features using the Pfeature library**\n",
        "\n",
        "Feature classes provided by Pfeature is summarized in the tables below.\n",
        "\n",
        "Composition Based Features "
      ]
    },
    {
      "cell_type": "markdown",
      "metadata": {
        "id": "Tz0Z7_WGvMcf"
      },
      "source": [
        "**Define functions for calculating the different features**"
      ]
    },
    {
      "cell_type": "code",
      "metadata": {
        "id": "CqQJaEtgvGh7"
      },
      "source": [
        "import pandas as pd"
      ],
      "execution_count": null,
      "outputs": []
    },
    {
      "cell_type": "code",
      "metadata": {
        "id": "fFb7v5bLyXHS"
      },
      "source": [
        "# Amino acid composition (AAC)\n",
        "\n",
        "from Pfeature.pfeature import aac_wp\n",
        "\n",
        "def aac(input):\n",
        "  a = input.rstrip('txt')\n",
        "  output = a + 'aac.csv'\n",
        "  df_out = aac_wp(input, output)\n",
        "  df_in = pd.read_csv(output)\n",
        "  return df_in\n",
        "\n",
        "aac('train_po_cdhit.txt')"
      ],
      "execution_count": null,
      "outputs": []
    },
    {
      "cell_type": "code",
      "metadata": {
        "id": "5L4I-ZkdyqPw"
      },
      "source": [
        "# Dipeptide composition (DPC)\n",
        "\n",
        "from Pfeature.pfeature import dpc_wp\n",
        "\n",
        "def dpc(input):\n",
        "  a = input.rstrip('txt')\n",
        "  output = a + 'dpc.csv'\n",
        "  df_out = dpc_wp(input, output, 1)\n",
        "  df_in = pd.read_csv(output)\n",
        "  return df_in\n",
        "\n",
        "feature = dpc('train_po_cdhit.txt')\n",
        "feature"
      ],
      "execution_count": null,
      "outputs": []
    },
    {
      "cell_type": "code",
      "metadata": {
        "id": "uQCcW6vIS1pz"
      },
      "source": [
        "# Tripeptide composition (TPC)\n",
        "\n",
        "from Pfeature.pfeature import tpc_wp\n",
        "\n",
        "def tpc(input):\n",
        "  a = input.rstrip('txt')\n",
        "  output = a + 'tpc.csv'\n",
        "  df_out = tpc_wp(input, output)\n",
        "  df_in = pd.read_csv(output)\n",
        "  return df_in\n",
        "\n",
        "feature = tpc('train_po_cdhit.txt')\n",
        "feature"
      ],
      "execution_count": null,
      "outputs": []
    },
    {
      "cell_type": "code",
      "metadata": {
        "id": "0FzLYHHkWJ-A"
      },
      "source": [
        "# Atom composition (ATC)\n",
        "\n",
        "from Pfeature.pfeature import atc_wp\n",
        "\n",
        "def atc(input):\n",
        "  a = input.rstrip('txt')\n",
        "  output = a + 'atc.csv'\n",
        "  df_out = atc_wp(input, output)\n",
        "  df_in = pd.read_csv(output)\n",
        "  return df_in\n",
        "\n",
        "feature = atc('train_po_cdhit.txt')\n",
        "feature"
      ],
      "execution_count": null,
      "outputs": []
    },
    {
      "cell_type": "code",
      "metadata": {
        "id": "WvMZX1FQWLLm"
      },
      "source": [
        "# Bond composition (BTC)\n",
        "\n",
        "from Pfeature.pfeature import btc_wp\n",
        "\n",
        "def btc(input):\n",
        "  a = input.rstrip('txt')\n",
        "  output = a + 'btc.csv'\n",
        "  df_out = btc_wp(input, output)\n",
        "  df_in = pd.read_csv(output)\n",
        "  return df_in\n",
        "\n",
        "feature = btc('train_po_cdhit.txt')\n",
        "feature"
      ],
      "execution_count": null,
      "outputs": []
    },
    {
      "cell_type": "code",
      "metadata": {
        "id": "22sWLhVLWLdz"
      },
      "source": [
        "# Physico-chemical properties (PCP)\n",
        "\n",
        "from Pfeature.pfeature import pcp_wp\n",
        "\n",
        "def pcp(input):\n",
        "  a = input.rstrip('txt')\n",
        "  output = a + 'pcp.csv'\n",
        "  df_out = pcp_wp(input, output)\n",
        "  df_in = pd.read_csv(output)\n",
        "  return df_in\n",
        "\n",
        "feature = pcp('train_po_cdhit.txt')\n",
        "feature"
      ],
      "execution_count": null,
      "outputs": []
    },
    {
      "cell_type": "code",
      "metadata": {
        "id": "XqXsdfRwWLxS"
      },
      "source": [
        "# Amino acid index composition (AAI)\n",
        "\n",
        "from Pfeature.pfeature import aai_wp\n",
        "\n",
        "def aai(input):\n",
        "  a = input.rstrip('txt')\n",
        "  output = a + 'aai.csv'\n",
        "  df_out = aai_wp(input, output)\n",
        "  df_in = pd.read_csv(output)\n",
        "  return df_in\n",
        "\n",
        "feature = aai('train_po_cdhit.txt')\n",
        "feature"
      ],
      "execution_count": null,
      "outputs": []
    },
    {
      "cell_type": "code",
      "metadata": {
        "id": "5-Aw-QYMWMAc"
      },
      "source": [
        "# Repetitive Residue Information (RRI)\n",
        "\n",
        "from Pfeature.pfeature import rri_wp\n",
        "\n",
        "def rri(input):\n",
        "  a = input.rstrip('txt')\n",
        "  output = a + 'rri.csv'\n",
        "  df_out = rri_wp(input, output)\n",
        "  df_in = pd.read_csv(output)\n",
        "  return df_in\n",
        "\n",
        "feature = rri('train_po_cdhit.txt')\n",
        "feature"
      ],
      "execution_count": null,
      "outputs": []
    },
    {
      "cell_type": "code",
      "metadata": {
        "id": "8ugKK2wLWMRS"
      },
      "source": [
        "# Distance distribution of residues (DDR)\n",
        "\n",
        "from Pfeature.pfeature import ddr_wp\n",
        "\n",
        "def ddr(input):\n",
        "  a = input.rstrip('txt')\n",
        "  output = a + 'ddr.csv'\n",
        "  df_out = ddr_wp(input, output)\n",
        "  df_in = pd.read_csv(output)\n",
        "  return df_in\n",
        "\n",
        "feature = ddr('train_po_cdhit.txt')\n",
        "feature"
      ],
      "execution_count": null,
      "outputs": []
    },
    {
      "cell_type": "code",
      "metadata": {
        "id": "BJSIDkGjWMgl"
      },
      "source": [
        "# Physico-chemical properties repeat composition (PRI)\n",
        "\n",
        "from Pfeature.pfeature import pri_wp\n",
        "\n",
        "def pri(input):\n",
        "  a = input.rstrip('txt')\n",
        "  output = a + 'pri.csv'\n",
        "  df_out = pri_wp(input, output)\n",
        "  df_in = pd.read_csv(output)\n",
        "  return df_in\n",
        "\n",
        "feature = pri('train_po_cdhit.txt')\n",
        "feature"
      ],
      "execution_count": null,
      "outputs": []
    },
    {
      "cell_type": "code",
      "metadata": {
        "id": "7Ww7qRByqxEv"
      },
      "source": [
        "from google.colab import drive\n",
        "drive.mount('/content/drive')"
      ],
      "execution_count": null,
      "outputs": []
    },
    {
      "cell_type": "code",
      "metadata": {
        "id": "f1fBQeXuWMuJ"
      },
      "source": [
        "# Shannon entropy (SEP)\n",
        "\n",
        "from Pfeature.pfeature import sep_wp\n",
        "\n",
        "def sep(input):\n",
        "  a = input.rstrip('txt')\n",
        "  output = a + 'sep.csv'\n",
        "  df_out = sep_wp(input, output)\n",
        "  df_in = pd.read_csv(output)\n",
        "  return df_in\n",
        "\n",
        "feature = sep('train_po_cdhit.txt')\n",
        "feature"
      ],
      "execution_count": null,
      "outputs": []
    },
    {
      "cell_type": "code",
      "metadata": {
        "id": "qvDetES4WM8w"
      },
      "source": [
        "# Shannon entropy of residue level (SER)\n",
        "\n",
        "from Pfeature.pfeature import ser_wp\n",
        "\n",
        "def ser(input):\n",
        "  a = input.rstrip('txt')\n",
        "  output = a + 'ser.csv'\n",
        "  df_out = ser_wp(input, output)\n",
        "  df_in = pd.read_csv(output)\n",
        "  return df_in\n",
        "\n",
        "feature = ser('train_po_cdhit.txt')\n",
        "feature"
      ],
      "execution_count": null,
      "outputs": []
    },
    {
      "cell_type": "code",
      "metadata": {
        "id": "0bZqrmVDWNM6"
      },
      "source": [
        "# Shannon entropy of physicochemical property (SPC)\n",
        "\n",
        "from Pfeature.pfeature import spc_wp\n",
        "\n",
        "def spc(input):\n",
        "  a = input.rstrip('txt')\n",
        "  output = a + 'spc.csv'\n",
        "  df_out = spc_wp(input, output)\n",
        "  df_in = pd.read_csv(output)\n",
        "  return df_in\n",
        "\n",
        "feature = spc('train_po_cdhit.txt')\n",
        "feature"
      ],
      "execution_count": null,
      "outputs": []
    },
    {
      "cell_type": "code",
      "metadata": {
        "id": "4zWS2aOhWNbM"
      },
      "source": [
        "# Autocorrelation (ACR)\n",
        "\n",
        "from Pfeature.pfeature import acr_wp\n",
        "\n",
        "def acr(input):\n",
        "  a = input.rstrip('txt')\n",
        "  output = a + 'acr.csv'\n",
        "  df_out = acr_wp(input, output)\n",
        "  df_in = pd.read_csv(output)\n",
        "  return df_in\n",
        "\n",
        "feature = acr('train_po_cdhit.txt')\n",
        "feature"
      ],
      "execution_count": null,
      "outputs": []
    },
    {
      "cell_type": "code",
      "metadata": {
        "id": "weU6ZsIraSTK"
      },
      "source": [
        "# Conjoint Triad Calculation (CTC)\n",
        "\n",
        "from Pfeature.pfeature import ctc_wp\n",
        "\n",
        "def ctc(input):\n",
        "  a = input.rstrip('txt')\n",
        "  output = a + 'ctc.csv'\n",
        "  df_out = ctc_wp(input, output)\n",
        "  df_in = pd.read_csv(output)\n",
        "  return df_in\n",
        "\n",
        "feature = ctc('train_po_cdhit.txt')\n",
        "feature"
      ],
      "execution_count": null,
      "outputs": []
    },
    {
      "cell_type": "code",
      "metadata": {
        "id": "1ZiSHaEZWNqb"
      },
      "source": [
        "# Composition enhanced transition distribution (CTD)\n",
        "\n",
        "from Pfeature.pfeature import ctd_wp\n",
        "\n",
        "def ctd(input):\n",
        "  a = input.rstrip('txt')\n",
        "  output = a + 'ctd.csv'\n",
        "  df_out = ctd_wp(input, output)\n",
        "  df_in = pd.read_csv(output)\n",
        "  return df_in\n",
        "\n",
        "feature = ctd('train_po_cdhit.txt')\n",
        "feature"
      ],
      "execution_count": null,
      "outputs": []
    },
    {
      "cell_type": "code",
      "metadata": {
        "id": "AF8qINqGWN5y"
      },
      "source": [
        "# Pseudo amino acid composition (PAAC)\n",
        "\n",
        "from Pfeature.pfeature import paac_wp\n",
        "\n",
        "def paac(input):\n",
        "  a = input.rstrip('txt')\n",
        "  output = a + 'paac.csv'\n",
        "  df_out = paac_wp(input, output)\n",
        "  df_in = pd.read_csv(output)\n",
        "  return df_in\n",
        "\n",
        "feature = paac('train_po_cdhit.txt')\n",
        "feature"
      ],
      "execution_count": null,
      "outputs": []
    },
    {
      "cell_type": "code",
      "metadata": {
        "id": "_bAyUcEAWOJa"
      },
      "source": [
        "# Amphiphilic pseudo amino acid composition (APAAC)\n",
        "\n",
        "from Pfeature.pfeature import apaac_wp\n",
        "\n",
        "def apaac(input):\n",
        "  a = input.rstrip('txt')\n",
        "  output = a + 'apaac.csv'\n",
        "  df_out = apaac_wp(input, output)\n",
        "  df_in = pd.read_csv(output)\n",
        "  return df_in\n",
        "\n",
        "feature = apaac('train_po_cdhit.txt')\n",
        "feature"
      ],
      "execution_count": null,
      "outputs": []
    },
    {
      "cell_type": "code",
      "metadata": {
        "id": "CHSXCbASWOZV"
      },
      "source": [
        "# Quasi sequence order (QOS)\n",
        "\n",
        "from Pfeature.pfeature import qos_wp\n",
        "\n",
        "def qos(input):\n",
        "  a = input.rstrip('txt')\n",
        "  output = a + 'qos.csv'\n",
        "  df_out = qos_wp(input, output)\n",
        "  df_in = pd.read_csv(output)\n",
        "  return df_in\n",
        "\n",
        "feature = qos('train_po_cdhit.txt')\n",
        "feature"
      ],
      "execution_count": null,
      "outputs": []
    },
    {
      "cell_type": "code",
      "metadata": {
        "id": "tkI-dTvjWOp7"
      },
      "source": [
        "# Sequence order coupling (SOC)\n",
        "\n",
        "from Pfeature.pfeature import soc_wp\n",
        "\n",
        "def soc(input):\n",
        "  a = input.rstrip('txt')\n",
        "  output = a + 'soc.csv'\n",
        "  df_out = soc_wp(input, output)\n",
        "  df_in = pd.read_csv(output)\n",
        "  return df_in\n",
        "\n",
        "feature = soc('train_po_cdhit.txt')\n",
        "feature"
      ],
      "execution_count": null,
      "outputs": []
    },
    {
      "cell_type": "markdown",
      "metadata": {
        "id": "zjtFV_a1v4tC"
      },
      "source": [
        "**Calculate feature for both positive and negative classes + combines the two classes + merge with class labels**\n"
      ]
    },
    {
      "cell_type": "code",
      "metadata": {
        "id": "gGtawRQMyyyh"
      },
      "source": [
        "pos = 'train_po_cdhit.txt'\n",
        "neg = 'train_ne_cdhit.txt'\n",
        "\n",
        "def feature_calc(po, ne, feature_name):\n",
        "  # Calculate feature\n",
        "  po_feature = feature_name(po)\n",
        "  ne_feature = feature_name(ne)\n",
        "  # Create class labels\n",
        "  po_class = pd.Series(['positive' for i in range(len(po_feature))])\n",
        "  ne_class = pd.Series(['negative' for i in range(len(ne_feature))])\n",
        "  # Combine po and ne\n",
        "  po_ne_class = pd.concat([po_class, ne_class], axis=0)\n",
        "  po_ne_class.name = 'class'\n",
        "  po_ne_feature = pd.concat([po_feature, ne_feature], axis=0)\n",
        "  # Combine feature and class\n",
        "  df = pd.concat([po_ne_feature, po_ne_class], axis=1)\n",
        "  return df\n",
        "\n",
        "feature = feature_calc(pos, neg, aac) # AAC\n",
        "#feature = feature_calc(pos, neg, dpc) # DPC\n",
        "#feature = feature_calc(pos, neg, tpc) # TPC\n",
        "#feature = feature_calc(pos, neg, atc) # ATC\n",
        "#feature = feature_calc(pos, neg, btc) # BTC\n",
        "#feature = feature_calc(pos, neg, pcp) # PCP\n",
        "#feature = feature_calc(pos, neg, aai) # AAI\n",
        "#feature = feature_calc(pos, neg, rri) # RRI\n",
        "#feature = feature_calc(pos, neg, ddr) # DDR\n",
        "#feature = feature_calc(pos, neg, pri) # PRI\n",
        "#feature = feature_calc(pos, neg, sep) # SEP\n",
        "#feature = feature_calc(pos, neg, ser) # SER\n",
        "#feature = feature_calc(pos, neg, spc) # SPC\n",
        "#feature = feature_calc(pos, neg, acr) # ACR\n",
        "#feature = feature_calc(pos, neg, ctc) # CTC\n",
        "#feature = feature_calc(pos, neg, ctd) # CTD\n",
        "#feature = feature_calc(pos, neg, paac) # PAAC\n",
        "#feature = feature_calc(pos, neg, apaac) # APAAC\n",
        "#feature = feature_calc(pos, neg, qos) # QOS\n",
        "#feature = feature_calc(pos, neg, soc) # SOC\n",
        "feature"
      ],
      "execution_count": null,
      "outputs": []
    },
    {
      "cell_type": "markdown",
      "metadata": {
        "id": "SteUxz8TwD7Y"
      },
      "source": [
        "# **Data pre-processing**"
      ]
    },
    {
      "cell_type": "code",
      "metadata": {
        "id": "PqKaNHY8zGgF"
      },
      "source": [
        "feature"
      ],
      "execution_count": null,
      "outputs": []
    },
    {
      "cell_type": "code",
      "metadata": {
        "id": "k7PdjMiAzLkV"
      },
      "source": [
        "# Assigns the features to X and class label to Y\n",
        "X = feature.drop('class', axis=1)\n",
        "y = feature['class'].copy()"
      ],
      "execution_count": null,
      "outputs": []
    },
    {
      "cell_type": "code",
      "metadata": {
        "id": "pI8aUu8tzOi6"
      },
      "source": [
        "# Encoding the Y class label\n",
        "y = y.map({\"positive\": 1, \"negative\": 0})"
      ],
      "execution_count": null,
      "outputs": []
    },
    {
      "cell_type": "code",
      "metadata": {
        "id": "Vt-q-yzwzRJd"
      },
      "source": [
        "X.shape"
      ],
      "execution_count": null,
      "outputs": []
    },
    {
      "cell_type": "code",
      "metadata": {
        "id": "Sv0gxtQSzU_8"
      },
      "source": [
        "# Feature selection (Variance threshold)\n",
        "from sklearn.feature_selection import VarianceThreshold\n",
        "\n",
        "fs = VarianceThreshold(threshold=0.1)\n",
        "fs.fit_transform(X)\n",
        "#X2.shape\n",
        "X2 = X.loc[:, fs.get_support()]\n",
        "X2"
      ],
      "execution_count": null,
      "outputs": []
    },
    {
      "cell_type": "code",
      "metadata": {
        "id": "mAsbPYjqza_V"
      },
      "source": [
        "# Data split\n",
        "from sklearn.model_selection import train_test_split\n",
        "\n",
        "X_train, X_test, y_train, y_test = train_test_split(X2, y, test_size=0.2, random_state =42, stratify=y)"
      ],
      "execution_count": null,
      "outputs": []
    },
    {
      "cell_type": "markdown",
      "metadata": {
        "id": "SS-jPN5wwhz3"
      },
      "source": [
        "# **Quickly compare >30 ML algorithms**"
      ]
    },
    {
      "cell_type": "code",
      "metadata": {
        "id": "Tr3Km7rfzeMn"
      },
      "source": [
        "! pip install lazypredict"
      ],
      "execution_count": null,
      "outputs": []
    },
    {
      "cell_type": "code",
      "metadata": {
        "id": "VHLJee3ozi1_"
      },
      "source": [
        "# Import libraries\n",
        "import lazypredict\n",
        "from lazypredict.Supervised import LazyClassifier\n",
        "from sklearn.model_selection import train_test_split\n",
        "from sklearn.metrics import matthews_corrcoef\n",
        "\n",
        "# Load dataset\n",
        "X = feature.drop('class', axis=1)\n",
        "y = feature['class'].copy()\n",
        "\n",
        "# Data split\n",
        "X_train, X_test, y_train, y_test = train_test_split(X, y, test_size=0.2, random_state =42, stratify=y)\n",
        "\n",
        "# Defines and builds the lazyclassifier\n",
        "clf = LazyClassifier(verbose=0,ignore_warnings=True, custom_metric=matthews_corrcoef)\n",
        "models_train,predictions_train = clf.fit(X_train, X_train, y_train, y_train)\n",
        "#models_test,predictions_test = clf.fit(X_train, X_test, y_train, y_test)"
      ],
      "execution_count": null,
      "outputs": []
    },
    {
      "cell_type": "code",
      "metadata": {
        "id": "-FRCmIRZzqoG"
      },
      "source": [
        "# Prints the model performance (Training set)\n",
        "models_train"
      ],
      "execution_count": null,
      "outputs": []
    },
    {
      "cell_type": "code",
      "metadata": {
        "id": "5ntqPIQ7zxyM"
      },
      "source": [
        "# Prints the model performance (Test set)\n",
        "models_test"
      ],
      "execution_count": null,
      "outputs": []
    },
    {
      "cell_type": "code",
      "metadata": {
        "id": "d1XF3P4I0ZnY"
      },
      "source": [
        "y_test"
      ],
      "execution_count": null,
      "outputs": []
    },
    {
      "cell_type": "code",
      "metadata": {
        "id": "tUFXgx0e0eG3"
      },
      "source": [
        "# Plot of Accuracy\n",
        "import matplotlib.pyplot as plt\n",
        "import seaborn as sns\n",
        "\n",
        "plt.figure(figsize=(5, 10))\n",
        "sns.set_theme(style=\"whitegrid\")\n",
        "ax = sns.barplot(y=models_train.index, x=\"Accuracy\", data=models_train)\n",
        "ax.set(xlim=(0, 1))"
      ],
      "execution_count": null,
      "outputs": []
    },
    {
      "cell_type": "code",
      "metadata": {
        "id": "pbFfmNxv0j-L"
      },
      "source": [
        "# Plot of MCC\n",
        "import matplotlib.pyplot as plt\n",
        "import seaborn as sns\n",
        "\n",
        "plt.figure(figsize=(5, 10))\n",
        "sns.set_theme(style=\"whitegrid\")\n",
        "ax = sns.barplot(y=models_train.index, x=\"matthews_corrcoef\", data=models_train)\n",
        "ax.set(xlim=(0, 1))"
      ],
      "execution_count": null,
      "outputs": []
    },
    {
      "cell_type": "markdown",
      "metadata": {
        "id": "1C0DhzPJ0owZ"
      },
      "source": [
        "# **Random Forest**\n"
      ]
    },
    {
      "cell_type": "code",
      "metadata": {
        "id": "QywKO3yo0rPp"
      },
      "source": [
        "# Build random forest model\n",
        "\n",
        "from sklearn.ensemble import RandomForestClassifier\n",
        "\n",
        "rf = RandomForestClassifier(n_estimators=500)\n",
        "\n",
        "rf.fit(X_train, y_train)"
      ],
      "execution_count": null,
      "outputs": []
    },
    {
      "cell_type": "markdown",
      "metadata": {
        "id": "dsxaBiMo0xlN"
      },
      "source": [
        "**Apply the model to make predictions**"
      ]
    },
    {
      "cell_type": "code",
      "metadata": {
        "id": "kTNzhNzy0zGO"
      },
      "source": [
        "y_train_pred = rf.predict(X_train)\n",
        "y_test_pred = rf.predict(X_test)"
      ],
      "execution_count": null,
      "outputs": []
    },
    {
      "cell_type": "markdown",
      "metadata": {
        "id": "_xVvyooU044P"
      },
      "source": [
        "**Model performance**"
      ]
    },
    {
      "cell_type": "code",
      "metadata": {
        "id": "MKhcAMRe06Vm"
      },
      "source": [
        "feature['class']"
      ],
      "execution_count": null,
      "outputs": []
    },
    {
      "cell_type": "code",
      "metadata": {
        "id": "mPB7MBs00_sD"
      },
      "source": [
        "# Simplest and quickest way to obtain the model performance (Accuracy)\n",
        "rf.score(X_test,y_test)"
      ],
      "execution_count": null,
      "outputs": []
    },
    {
      "cell_type": "code",
      "metadata": {
        "id": "_HH1YSjO1Th-"
      },
      "source": [
        "# Accuracy\n",
        "from sklearn.metrics import accuracy_score\n",
        "\n",
        "accuracy_score(y_test, y_test_pred)"
      ],
      "execution_count": null,
      "outputs": []
    },
    {
      "cell_type": "code",
      "metadata": {
        "id": "-u8T7Mqw1dUJ"
      },
      "source": [
        "# Matthew Correlation Coefficient\n",
        "from sklearn.metrics import matthews_corrcoef\n",
        "\n",
        "matthews_corrcoef(y_test, y_test_pred)"
      ],
      "execution_count": null,
      "outputs": []
    },
    {
      "cell_type": "code",
      "metadata": {
        "id": "WGhWtImB1gFu"
      },
      "source": [
        "# Confusion matrix\n",
        "from sklearn.metrics import confusion_matrix\n",
        "\n",
        "confusion_matrix(y_test, y_test_pred)"
      ],
      "execution_count": null,
      "outputs": []
    },
    {
      "cell_type": "code",
      "metadata": {
        "id": "5LZH7elw1jj_"
      },
      "source": [
        "# Classification report\n",
        "from sklearn.metrics import classification_report\n",
        "\n",
        "model_report = classification_report(y_train, y_train_pred, target_names=['positive','negative'])\n",
        "\n",
        "f = open('model_report.txt','w')\n",
        "f.writelines(model_report) \n",
        "f.close()"
      ],
      "execution_count": null,
      "outputs": []
    },
    {
      "cell_type": "code",
      "metadata": {
        "id": "KmU0dld51npY"
      },
      "source": [
        "# ROC curve\n",
        "import matplotlib.pyplot as plt\n",
        "from sklearn.metrics import plot_roc_curve\n",
        "\n",
        "plot_roc_curve(rf, X_test, y_test)  \n",
        "plt.show()"
      ],
      "execution_count": null,
      "outputs": []
    },
    {
      "cell_type": "code",
      "metadata": {
        "id": "dG7kL5U41tLC"
      },
      "source": [
        "plot_roc_curve(rf, X_train, y_train)  \n",
        "plt.show()"
      ],
      "execution_count": null,
      "outputs": []
    },
    {
      "cell_type": "markdown",
      "metadata": {
        "id": "dZL9dnBS1xQZ"
      },
      "source": [
        "**Feature importance**"
      ]
    },
    {
      "cell_type": "code",
      "metadata": {
        "id": "z3JHqKLc1y5N"
      },
      "source": [
        "# Display Dataframe of the dataset after feature selection (variance threshold)\n",
        "X2"
      ],
      "execution_count": null,
      "outputs": []
    },
    {
      "cell_type": "code",
      "metadata": {
        "id": "Nufw9Hoy1502"
      },
      "source": [
        "# Retrieve feature importance from the RF model\n",
        "importance = pd.Series(rf.feature_importances_, name = 'Gini')\n",
        "\n",
        "# Retrieve feature names\n",
        "feature_names = pd.Series(X2.columns, name = 'Feature')"
      ],
      "execution_count": null,
      "outputs": []
    },
    {
      "cell_type": "code",
      "metadata": {
        "id": "_RCHnF8_182z"
      },
      "source": [
        "# Combine feature names and Gini values into a Dataframe\n",
        "df = pd.concat([feature_names, importance], axis=1, names=['Feature', 'Gini'])\n",
        "df"
      ],
      "execution_count": null,
      "outputs": []
    },
    {
      "cell_type": "code",
      "metadata": {
        "id": "NpgYltlX2BSW"
      },
      "source": [
        "# Plot of feature importance\n",
        "import matplotlib.pyplot as plt\n",
        "import seaborn as sns\n",
        "\n",
        "df_sorted = df.sort_values('Gini', ascending=False)[:20] # Sort by Gini in descending order; Showing only the top 20 results\n",
        "\n",
        "plt.figure(figsize=(5, 10))\n",
        "sns.set_theme(style=\"whitegrid\")\n",
        "ax = sns.barplot(x = 'Gini', y = 'Feature', data = df_sorted)\n",
        "plt.xlabel(\"Feature Importance\")"
      ],
      "execution_count": null,
      "outputs": []
    }
  ]
}